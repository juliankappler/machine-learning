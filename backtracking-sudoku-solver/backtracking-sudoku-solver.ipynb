{
 "cells": [
  {
   "cell_type": "code",
   "execution_count": 1,
   "metadata": {},
   "outputs": [],
   "source": [
    "from sudoku_solver import sudoku_solver"
   ]
  },
  {
   "cell_type": "code",
   "execution_count": 2,
   "metadata": {},
   "outputs": [],
   "source": [
    "s = sudoku_solver()"
   ]
  },
  {
   "cell_type": "code",
   "execution_count": 5,
   "metadata": {},
   "outputs": [],
   "source": [
    "# sudoku game number 71 from\n",
    "# http://mysudoku.com/game-sudoku/extremely-difficult_ga.html\n",
    "\n",
    "board = [\n",
    "    ['.','5','.',   '.','7','.',    '.','8','3'],\n",
    "    ['.','.','4',   '.','.','.',    '.','6','.'],\n",
    "    ['.','.','.',   '.','5','.',    '.','.','.'],\n",
    "    #\n",
    "    ['8','3','.',   '6','.','.',    '.','.','.'],\n",
    "    ['.','.','.',   '9','.','.',    '1','.','.'],\n",
    "    ['.','.','.',   '.','.','.',    '.','.','.'],\n",
    "    #\n",
    "    ['5','.','7',   '.','.','.',    '4','.','.'],\n",
    "    ['.','.','.',   '3','.','2',    '.','.','.'],\n",
    "    ['1','.','.',   '.','.','.',    '.','.','.'],\n",
    "    ]\n",
    "\n",
    "solution = s.solve(board=board)"
   ]
  },
  {
   "cell_type": "code",
   "execution_count": 6,
   "metadata": {},
   "outputs": [
    {
     "name": "stdout",
     "output_type": "stream",
     "text": [
      "╔═══╤═══╤═══╦═══╤═══╤═══╦═══╤═══╤═══╗\n",
      "║ 9 │ 5 │ 1 ║ 4 │ 7 │ 6 ║ 2 │ 8 │ 3 ║\n",
      "╟───┼───┼───╫───┼───┼───╫───┼───┼───╢\n",
      "║ 2 │ 8 │ 4 ║ 1 │ 9 │ 3 ║ 5 │ 6 │ 7 ║\n",
      "╟───┼───┼───╫───┼───┼───╫───┼───┼───╢\n",
      "║ 3 │ 7 │ 6 ║ 2 │ 5 │ 8 ║ 9 │ 1 │ 4 ║\n",
      "╠═══╪═══╪═══╬═══╪═══╪═══╬═══╪═══╪═══╣\n",
      "║ 8 │ 3 │ 5 ║ 6 │ 2 │ 1 ║ 7 │ 4 │ 9 ║\n",
      "╟───┼───┼───╫───┼───┼───╫───┼───┼───╢\n",
      "║ 6 │ 4 │ 2 ║ 9 │ 3 │ 7 ║ 1 │ 5 │ 8 ║\n",
      "╟───┼───┼───╫───┼───┼───╫───┼───┼───╢\n",
      "║ 7 │ 1 │ 9 ║ 5 │ 8 │ 4 ║ 3 │ 2 │ 6 ║\n",
      "╠═══╪═══╪═══╬═══╪═══╪═══╬═══╪═══╪═══╣\n",
      "║ 5 │ 2 │ 7 ║ 8 │ 6 │ 9 ║ 4 │ 3 │ 1 ║\n",
      "╟───┼───┼───╫───┼───┼───╫───┼───┼───╢\n",
      "║ 4 │ 9 │ 8 ║ 3 │ 1 │ 2 ║ 6 │ 7 │ 5 ║\n",
      "╟───┼───┼───╫───┼───┼───╫───┼───┼───╢\n",
      "║ 1 │ 6 │ 3 ║ 7 │ 4 │ 5 ║ 8 │ 9 │ 2 ║\n",
      "╚═══╧═══╧═══╩═══╧═══╧═══╩═══╧═══╧═══╝\n"
     ]
    }
   ],
   "source": [
    "for i,board_solved in enumerate(solution):\n",
    "    s.plot_sudoku(board_solved)"
   ]
  },
  {
   "cell_type": "code",
   "execution_count": null,
   "metadata": {},
   "outputs": [],
   "source": []
  }
 ],
 "metadata": {
  "kernelspec": {
   "display_name": "snowflake",
   "language": "python",
   "name": "python3"
  },
  "language_info": {
   "codemirror_mode": {
    "name": "ipython",
    "version": 3
   },
   "file_extension": ".py",
   "mimetype": "text/x-python",
   "name": "python",
   "nbconvert_exporter": "python",
   "pygments_lexer": "ipython3",
   "version": "3.10.8"
  },
  "orig_nbformat": 4
 },
 "nbformat": 4,
 "nbformat_minor": 2
}
