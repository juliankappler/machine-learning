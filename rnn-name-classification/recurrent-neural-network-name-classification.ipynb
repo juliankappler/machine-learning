{
 "cells": [
  {
   "attachments": {},
   "cell_type": "markdown",
   "id": "751d9c3b",
   "metadata": {},
   "source": [
    "# Name classification with recurrent neural networks"
   ]
  },
  {
   "attachments": {},
   "cell_type": "markdown",
   "id": "56322ce0",
   "metadata": {},
   "source": [
    "## Introduction\n",
    "\n",
    "**In this notebook, we train a recurrent neural network to categorize last names. We train the network on lists of names for 15 countries. For a given new name, the trained network then assigns the country it most associates that name with.**"
   ]
  },
  {
   "attachments": {},
   "cell_type": "markdown",
   "id": "4caf4d98",
   "metadata": {},
   "source": [
    "The present notebook is based on this tutorial https://pytorch.org/tutorials/intermediate/char_rnn_classification_tutorial.html; in particular we have the same goal: name classification using recurrent neural networks.\n",
    "\n",
    "There are many small differences between the present notebook and the tutorial, but also some relatively big differences:\n",
    "\n",
    "\n",
    "* **We use different data for the last names.** The reason is that in the dataset used in the tutorial, the number of names in each language is far from uniform (e.g. there are over 10000 Russian names, but less than 200 Vietnamese names). We use a more balanced dataset, by taking the most popular last names from various countries from the NameDataset (https://github.com/philipperemy/name-dataset; this package needs to be installed to successfully run the present notebook).\n",
    "* **We use a different neural network.** In the tutorial, a linear neural network is used. We add hidden layers with nonlinear ReLU activation functions. We found that a nonlinear network has a higher accuracy as compared to a linear network (data not shown in this notebook). Also, we add a regularization term for the weights.\n",
    "* **We implement our recurrent neural network slightly differently.** In the tutorial, the neural network is called with each letter, and the iteration over the letters of the word occurs in the training function.  In our implementation, the neural network is called with the whole word, and the iteration over the letters of the word occurs within the neural network class.\n",
    "* **We use the DataLoader class to load our data during training**. In the tutorial, this is implemented by \"hand\"."
   ]
  },
  {
   "attachments": {},
   "cell_type": "markdown",
   "id": "3b0183a5",
   "metadata": {},
   "source": [
    "## Overview over this notebook:"
   ]
  },
  {
   "attachments": {},
   "cell_type": "markdown",
   "id": "67adc29d",
   "metadata": {},
   "source": [
    "1. Load data and convert names to ascii characters\n",
    "2. Split data into training/test set\n",
    "3. Define and instantiate DataLoader for loading training/test set\n",
    "4. Define and instantiate recurrent neural network\n",
    "5. Train neural network\n",
    "6. Define functions to map output of neural network to country name\n",
    "7. Evaluate trained neural network on some example names\n",
    "8. Evaluate and plot confusion matrix"
   ]
  },
  {
   "attachments": {},
   "cell_type": "markdown",
   "id": "fdbc79e5",
   "metadata": {},
   "source": [
    "##### To Do: Rewrite this notebook. By repackaging the code into a class that contains all the helper functions I think the structure could be improved a lot. For me the purpose here was to try a simple example for a recurrent neural network; in particular I wanted to see in an example how input data of various size (in this case names of different length) can be handled."
   ]
  },
  {
   "cell_type": "code",
   "execution_count": 1,
   "id": "6f1631e0",
   "metadata": {
    "ExecuteTime": {
     "end_time": "2022-02-23T12:03:05.930948Z",
     "start_time": "2022-02-23T12:03:03.101745Z"
    }
   },
   "outputs": [],
   "source": [
    "import numpy as np\n",
    "from numpy.random import default_rng\n",
    "rng = default_rng()\n",
    "\n",
    "import torch\n",
    "import torch.nn as nn\n",
    "from torch.utils.data import Dataset\n",
    "from torch.utils.data import DataLoader\n",
    "\n",
    "import unicodedata\n",
    "import string\n",
    "\n",
    "import matplotlib.pyplot as plt"
   ]
  },
  {
   "cell_type": "code",
   "execution_count": 2,
   "id": "baad43f3",
   "metadata": {
    "ExecuteTime": {
     "end_time": "2022-02-23T12:03:05.940781Z",
     "start_time": "2022-02-23T12:03:05.934787Z"
    }
   },
   "outputs": [],
   "source": [
    "#device = 'cuda' if torch.cuda.is_available() else 'cpu'\n",
    "#print(f'Using {device} device')\n",
    "device = 'cpu'"
   ]
  },
  {
   "attachments": {},
   "cell_type": "markdown",
   "id": "84071740",
   "metadata": {},
   "source": [
    "## 1. Load data and convert names to ascii characters "
   ]
  },
  {
   "cell_type": "code",
   "execution_count": 3,
   "id": "b2ba5b5f",
   "metadata": {
    "ExecuteTime": {
     "end_time": "2022-02-23T12:03:05.952742Z",
     "start_time": "2022-02-23T12:03:05.946385Z"
    }
   },
   "outputs": [
    {
     "name": "stdout",
     "output_type": "stream",
     "text": [
      "all_letters = abcdefghijklmnopqrstuvwxyzABCDEFGHIJKLMNOPQRSTUVWXYZ .,;'\n"
     ]
    }
   ],
   "source": [
    "# all_letters is a string with all the letters that we consider\n",
    "all_letters = string.ascii_letters + \" .,;'\"\n",
    "print('all_letters = {0}'.format(all_letters))\n",
    "N_letters = len(all_letters)"
   ]
  },
  {
   "cell_type": "code",
   "execution_count": 4,
   "id": "485fb954",
   "metadata": {
    "ExecuteTime": {
     "end_time": "2022-02-23T12:03:05.964337Z",
     "start_time": "2022-02-23T12:03:05.958380Z"
    }
   },
   "outputs": [],
   "source": [
    "# Turn a Unicode string to plain ASCII, thanks to https://stackoverflow.com/a/518232/2809427\n",
    "def unicode_to_ascii(s):\n",
    "    return ''.join(\n",
    "        c for c in unicodedata.normalize('NFD', s)\n",
    "        if unicodedata.category(c) != 'Mn'\n",
    "        and c in all_letters\n",
    "    )"
   ]
  },
  {
   "cell_type": "code",
   "execution_count": 5,
   "id": "655c8594",
   "metadata": {
    "ExecuteTime": {
     "end_time": "2022-02-23T12:03:15.989101Z",
     "start_time": "2022-02-23T12:03:05.966936Z"
    }
   },
   "outputs": [],
   "source": [
    "# see\n",
    "# https://github.com/philipperemy/name-dataset\n",
    "from names_dataset import NameDataset\n",
    "nd = NameDataset()"
   ]
  },
  {
   "cell_type": "code",
   "execution_count": 6,
   "id": "d911085e",
   "metadata": {
    "ExecuteTime": {
     "end_time": "2022-02-23T12:03:15.996888Z",
     "start_time": "2022-02-23T12:03:15.991655Z"
    }
   },
   "outputs": [],
   "source": [
    "# Example data from NameDataset:\n",
    "if False: # set to \"True\" to print the top 10 last names from Germany\n",
    "    nd.get_top_names(n=10, \n",
    "                     use_first_names=False,\n",
    "                    country_alpha2='DE')['DE']"
   ]
  },
  {
   "cell_type": "code",
   "execution_count": 7,
   "id": "52acff40",
   "metadata": {
    "ExecuteTime": {
     "end_time": "2022-02-23T12:03:17.842097Z",
     "start_time": "2022-02-23T12:03:15.999614Z"
    }
   },
   "outputs": [
    {
     "name": "stdout",
     "output_type": "stream",
     "text": [
      "Country              2 char code\n",
      "Ireland              IE   \n",
      "Portugal             PT   \n",
      "Italy                IT   \n",
      "Netherlands          NL   \n",
      "China                CN   \n",
      "India                IN   \n",
      "Greece               GR   \n",
      "Poland               PL   \n",
      "Germany              DE   \n",
      "Korea, Republic of   KR   \n",
      "Spain                ES   \n",
      "Indonesia            ID   \n",
      "France               FR   \n",
      "United Kingdom       GB   \n",
      "Russian Federation   RU   \n",
      "These are 15 countries\n"
     ]
    }
   ],
   "source": [
    "# call\n",
    "# nd.get_country_codes()\n",
    "# to get a list of the countries in the database\n",
    "\n",
    "countries = ['Germany','India','Portugal','Greece','Spain','United Kingdom',\n",
    "            'Poland','China','Italy','France',\n",
    "            'Russian Federation',\n",
    "            'Korea, Republic of','Indonesia',\n",
    "             'Netherlands',\n",
    "             'Ireland'\n",
    "            ]\n",
    "\n",
    "country_to_2char_code = {}\n",
    "\n",
    "print(\"{0:20s} {1:5s}\".format('Country','2 char code'))\n",
    "for current_pycountry_object in nd.get_country_codes():\n",
    "    if current_pycountry_object.name in countries:\n",
    "        print(\"{0:20s} {1:5s}\".format(\n",
    "            current_pycountry_object.name,current_pycountry_object.alpha_2))\n",
    "        country_to_2char_code[current_pycountry_object.name] = \\\n",
    "                                        current_pycountry_object.alpha_2\n",
    "\n",
    "print('These are {0} countries'.format(len(country_to_2char_code)))"
   ]
  },
  {
   "cell_type": "code",
   "execution_count": null,
   "id": "bf37d7cd",
   "metadata": {
    "ExecuteTime": {
     "end_time": "2022-02-22T19:31:26.678695Z",
     "start_time": "2022-02-22T19:31:26.171911Z"
    }
   },
   "outputs": [],
   "source": []
  },
  {
   "cell_type": "code",
   "execution_count": 8,
   "id": "151486b0",
   "metadata": {
    "ExecuteTime": {
     "end_time": "2022-02-23T12:03:24.870916Z",
     "start_time": "2022-02-23T12:03:17.844595Z"
    }
   },
   "outputs": [
    {
     "name": "stdout",
     "output_type": "stream",
     "text": [
      "Number of categories = 15\n"
     ]
    }
   ],
   "source": [
    "N_per_country = 2500\n",
    "\n",
    "def load_data(country_to_2char_code,N_per_country = 1500):\n",
    "    #\n",
    "    data = {}\n",
    "    categories = {}\n",
    "    enumeration_of_categories = {}\n",
    "    N_categories = 0\n",
    "    #\n",
    "    #\n",
    "    for country, two_char_code in country_to_2char_code.items():\n",
    "        #\n",
    "        current_words = nd.get_top_names(n=N_per_country, \n",
    "                         use_first_names=False,\n",
    "                        country_alpha2=two_char_code)[two_char_code]\n",
    "        #\n",
    "        # load data\n",
    "        current_words = [unicode_to_ascii(w) for w in current_words if len(unicode_to_ascii(w)) > 1]\n",
    "        #\n",
    "        # get name of language\n",
    "        data[country] = current_words \n",
    "        categories[country] = N_categories\n",
    "        enumeration_of_categories[N_categories] = country\n",
    "        N_categories += 1\n",
    "    return N_categories, categories, enumeration_of_categories,  data\n",
    "            \n",
    "\n",
    "\n",
    "N_categories, categories, enumeration_of_categories,  input_data = \\\n",
    "                    load_data(country_to_2char_code,\n",
    "                             N_per_country=N_per_country)\n",
    "\n",
    "print('Number of categories = {0}'.format(N_categories))\n",
    "#print(\"List of categories: {0}\".format(list(categories.keys())))"
   ]
  },
  {
   "cell_type": "code",
   "execution_count": 9,
   "id": "7fae86a7",
   "metadata": {
    "ExecuteTime": {
     "end_time": "2022-02-23T12:03:24.879478Z",
     "start_time": "2022-02-23T12:03:24.873546Z"
    }
   },
   "outputs": [],
   "source": [
    "# some helper functions\n",
    "\n",
    "def letter_to_index(letter):\n",
    "    '''\n",
    "    inputs: letter which is contained in the string \"all_letters\"\n",
    "        \n",
    "    output: integer which gives the index at which the letter appears in all_letters\n",
    "    ''';\n",
    "    return all_letters.find(letter)\n",
    "\n",
    "def word_to_tensor(word):\n",
    "    ''' \n",
    "    input: word as a string with chars that appear in the string \"all_letters\"\n",
    "    \n",
    "    output: pytorch tensor of shape (len(word),1,len(all_letters)),\n",
    "    such that output[i,0,j] is the index at which the i-th letter of word\n",
    "    appears in the string \"all_letters\"\n",
    "    '''\n",
    "    #\n",
    "    output_tensor = torch.zeros(len(word),1, N_letters)\n",
    "    for index, letter in enumerate(word):\n",
    "        output_tensor[index,0,letter_to_index(letter)] = 1\n",
    "    return output_tensor"
   ]
  },
  {
   "attachments": {},
   "cell_type": "markdown",
   "id": "7cadeec5",
   "metadata": {},
   "source": [
    "## 2. Split dataset into training and test set"
   ]
  },
  {
   "cell_type": "code",
   "execution_count": 10,
   "id": "44623eb3",
   "metadata": {
    "ExecuteTime": {
     "end_time": "2022-02-23T12:03:27.282011Z",
     "start_time": "2022-02-23T12:03:24.882831Z"
    }
   },
   "outputs": [
    {
     "name": "stdout",
     "output_type": "stream",
     "text": [
      "category             #training  #test     \n",
      "Ireland               2000        500\n",
      "Portugal              2000        500\n",
      "Italy                 2000        500\n",
      "Netherlands           2000        500\n",
      "China                 1930        482\n",
      "India                 1967        491\n",
      "Greece                1740        434\n",
      "Poland                2000        500\n",
      "Germany               2000        500\n",
      "Korea, Republic of    1056        263\n",
      "Spain                 2000        500\n",
      "Indonesia             2000        500\n",
      "France                2000        500\n",
      "United Kingdom        2000        500\n",
      "Russian Federation     354         88\n",
      "Number of training items = 27047\n",
      "Number of test items     = 6758\n"
     ]
    }
   ],
   "source": [
    "# percentage of dataset used for training:\n",
    "train_percentage = 80\n",
    "\n",
    "training_items = []\n",
    "training_labels = []\n",
    "\n",
    "test_items = []\n",
    "test_labels = []\n",
    "\n",
    "print(\"{0:20s} {1:10s} {2:10s}\".format('category','#training','#test'))\n",
    "for category, samples in input_data.items():\n",
    "    #\n",
    "    category_index = categories[category]\n",
    "    #\n",
    "    N_samples = len(samples)\n",
    "    N_samples_train = int(np.ceil(N_samples*train_percentage/100.))\n",
    "    print(\"{0:20s} {1:5d} {2:10d}\".format(category,N_samples_train,N_samples-N_samples_train))\n",
    "    #\n",
    "    indices = rng.choice(N_samples,\n",
    "                        size=N_samples_train,\n",
    "                         replace=False)\n",
    "    #\n",
    "    for i, current_name in enumerate(samples):\n",
    "        #\n",
    "        current_item = word_to_tensor(current_name)\n",
    "        #\n",
    "        if i in indices:        \n",
    "            training_items.append(current_item)\n",
    "            training_labels.append(category_index)\n",
    "        else:\n",
    "            test_items.append(current_item)\n",
    "            test_labels.append(category_index)\n",
    "\n",
    "\n",
    "print('Number of training items = {0}'.format(len(training_items)))\n",
    "print('Number of test items     = {0}'.format(len(test_items)))"
   ]
  },
  {
   "attachments": {},
   "cell_type": "markdown",
   "id": "3455bee4",
   "metadata": {
    "ExecuteTime": {
     "end_time": "2022-02-22T17:19:16.091789Z",
     "start_time": "2022-02-22T17:19:16.079590Z"
    }
   },
   "source": [
    "## 3. Define and instantiate DataLoader objects for training and test set"
   ]
  },
  {
   "cell_type": "code",
   "execution_count": 11,
   "id": "687989eb",
   "metadata": {
    "ExecuteTime": {
     "end_time": "2022-02-23T12:03:27.292191Z",
     "start_time": "2022-02-23T12:03:27.285202Z"
    }
   },
   "outputs": [],
   "source": [
    "# modified from \n",
    "# https://pytorch.org/tutorials/beginner/basics/data_tutorial.html\n",
    "\n",
    "class CustomDataset(Dataset):\n",
    "    def __init__(self,items,labels):\n",
    "        self.items = items.copy()\n",
    "        self.labels = labels.copy()\n",
    "        self.N_data = len(self.labels)\n",
    "    \n",
    "    def __len__(self):\n",
    "        return self.N_data\n",
    "    \n",
    "    def __getitem__(self,idx):\n",
    "        return self.items[idx], self.labels[idx]"
   ]
  },
  {
   "cell_type": "code",
   "execution_count": 12,
   "id": "c0f4926c",
   "metadata": {
    "ExecuteTime": {
     "end_time": "2022-02-23T12:03:27.301764Z",
     "start_time": "2022-02-23T12:03:27.294914Z"
    }
   },
   "outputs": [],
   "source": [
    "training_data = CustomDataset(items=training_items,\n",
    "                             labels=training_labels)\n",
    "\n",
    "test_data = CustomDataset(items=test_items,\n",
    "                             labels=test_labels)"
   ]
  },
  {
   "cell_type": "code",
   "execution_count": 13,
   "id": "d2b5c2ac",
   "metadata": {
    "ExecuteTime": {
     "end_time": "2022-02-23T12:03:27.315099Z",
     "start_time": "2022-02-23T12:03:27.308717Z"
    }
   },
   "outputs": [],
   "source": [
    "# Since names have variable lengths, the input to our neural network is\n",
    "# of variable length. The standard collate function in DataLoader\n",
    "# assumes that all inputs in a batch have equal length, so we need to \n",
    "# give our own collate function which does assume equal lengths of inputs\n",
    "# in a batch.\n",
    "\n",
    "# https://discuss.pytorch.org/t/how-to-create-a-dataloader-with-variable-size-input/8278/3\n",
    "def my_collate(batch):\n",
    "    # batch contains a list of tuples of structure (sequence, target)\n",
    "    data = [item[0] for item in batch]\n",
    "    targets = [item[1] for item in batch]\n",
    "    return [data, targets]\n",
    "\n",
    "training_dataloader = DataLoader(training_data, batch_size=32, shuffle=True,\n",
    "                                collate_fn=my_collate\n",
    "                                )\n",
    "test_dataloader = DataLoader(test_data, batch_size=32,\n",
    "                             shuffle=True,\n",
    "                            collate_fn=my_collate)"
   ]
  },
  {
   "attachments": {},
   "cell_type": "markdown",
   "id": "af7dc5ad",
   "metadata": {},
   "source": [
    "## 4. Define and instantiate recurrent neural network"
   ]
  },
  {
   "cell_type": "code",
   "execution_count": 14,
   "id": "ea996022",
   "metadata": {
    "ExecuteTime": {
     "end_time": "2022-02-23T12:10:43.375117Z",
     "start_time": "2022-02-23T12:10:43.365127Z"
    }
   },
   "outputs": [],
   "source": [
    "# Note the difference with\n",
    "# https://pytorch.org/tutorials/intermediate/char_rnn_classification_tutorial.html\n",
    "\n",
    "# Note in particular that we do not have a softmax after the last neural\n",
    "# network layer, i.e. we only calculate affinities and not probabilities for \n",
    "# categories. Since we are only interested in which are the most probable \n",
    "# categories for now, knowing the affinities is sufficient.\n",
    "\n",
    "class neural_network(nn.Module):\n",
    "    #\n",
    "    def __init__(self, input_size, hidden_size, output_size,internal_size=128):\n",
    "        super(neural_network, self).__init__()\n",
    "        \n",
    "        self.hidden_size = hidden_size\n",
    "        self.internal_size = internal_size\n",
    "        \n",
    "        #\n",
    "        self.i1 = nn.Linear(input_size + hidden_size, internal_size)\n",
    "        self.relu = nn.ReLU()\n",
    "        #\n",
    "        self.i2 = nn.Linear(internal_size,internal_size)\n",
    "        #\n",
    "        self.i3h = nn.Linear(internal_size, hidden_size)\n",
    "        self.i3o = nn.Linear(internal_size, output_size)\n",
    "        #\n",
    "        self.softmax = nn.LogSoftmax(dim=1)\n",
    "        \n",
    "    def forward(self, input):\n",
    "        #\n",
    "        # input = torch tensor of shape (#letters in current word,1,n_letters)\n",
    "        #\n",
    "        hidden = self.init_hidden() # initialize with zeros\n",
    "        #\n",
    "        for i,current_letter in enumerate(input):\n",
    "            # create one big tensor containing both the input \n",
    "            # and the current hidden state\n",
    "            combined_input = torch.cat((current_letter,hidden), 1)\n",
    "            #\n",
    "            #\n",
    "            internal = self.i1(combined_input)\n",
    "            internal = self.relu(internal)\n",
    "            #\n",
    "            internal = self.i2(internal)\n",
    "            internal = self.relu(internal)\n",
    "            # calculate new hidden state\n",
    "            hidden = self.i3h(internal)\n",
    "            #hidden = self.relu(hidden)\n",
    "            # (output is not required for intermediate letters)\n",
    "        #\n",
    "        # for the final letter, calculate and return the output\n",
    "        output = self.i3o(internal)\n",
    "        #output = self.relu(output)\n",
    "        #output = self.softmax(output)\n",
    "        #\n",
    "        return output\n",
    "    \n",
    "    def init_hidden(self):\n",
    "        # create hidden state full of zeros\n",
    "        return torch.zeros(1, self.hidden_size)"
   ]
  },
  {
   "cell_type": "code",
   "execution_count": 15,
   "id": "4fd77aba",
   "metadata": {
    "ExecuteTime": {
     "end_time": "2022-02-23T12:10:43.868457Z",
     "start_time": "2022-02-23T12:10:43.859954Z"
    }
   },
   "outputs": [],
   "source": [
    "dimension_of_internal_state = 128\n",
    "neurons_per_hidden_layer = 256\n",
    "\n",
    "model = neural_network(input_size=N_letters,\n",
    "                       hidden_size=neurons_per_hidden_layer, \n",
    "                       internal_size=dimension_of_internal_state,\n",
    "                       output_size=N_categories).to(device)\n",
    "#print(model)"
   ]
  },
  {
   "attachments": {},
   "cell_type": "markdown",
   "id": "73d101d1",
   "metadata": {},
   "source": [
    "## 5. Train neural network"
   ]
  },
  {
   "cell_type": "code",
   "execution_count": 16,
   "id": "f6051a7e",
   "metadata": {
    "ExecuteTime": {
     "end_time": "2022-02-23T12:10:44.678754Z",
     "start_time": "2022-02-23T12:10:44.664967Z"
    }
   },
   "outputs": [],
   "source": [
    "def train_loop(dataloader,model,loss_fn,optimizer,\n",
    "              verbose=False):\n",
    "    #\n",
    "    size = len(dataloader.dataset)\n",
    "    num_batches = len(dataloader)\n",
    "    test_loss, correct = 0, 0\n",
    "    #\n",
    "    for batch, (X,y) in enumerate(dataloader):\n",
    "        # compute predictions and loss\n",
    "        y = torch.tensor(y)\n",
    "        predictions = torch.zeros(len(y),N_categories)\n",
    "        for i,e in enumerate(X):\n",
    "            predictions[i] = model(e)\n",
    "        #\n",
    "        loss = loss_fn(predictions,y)\n",
    "        loss += 0.01*(predictions**2).sum()\n",
    "        #\n",
    "        test_loss += loss.item()\n",
    "        correct += (predictions.argmax(1) == y).type(torch.float).sum().item()\n",
    "\n",
    "        # Backpropagation\n",
    "        optimizer.zero_grad()\n",
    "        loss.backward()\n",
    "        optimizer.step()\n",
    "        \n",
    "        #\n",
    "        if verbose:\n",
    "            if batch % 1000 == 0:\n",
    "                loss,current = loss.item(), batch * len(X)\n",
    "                print(f\"loss: {loss:>7f} [{current:>5d}/{size:>5d}]\")\n",
    "    test_loss /= num_batches\n",
    "    correct /= size\n",
    "    #\n",
    "    return correct, test_loss\n",
    "\n",
    "            \n",
    "def test_loop(dataloader, model, loss_fn,verbose=False):\n",
    "    size = len(dataloader.dataset)\n",
    "    num_batches = len(dataloader)\n",
    "    test_loss, correct = 0, 0\n",
    "\n",
    "    with torch.no_grad():\n",
    "        for X, y in dataloader:\n",
    "            #\n",
    "            y = torch.tensor(y)\n",
    "            predictions = torch.zeros(len(y),N_categories)\n",
    "            for i,e in enumerate(X):\n",
    "                predictions[i] = model(e)\n",
    "            #\n",
    "            test_loss += loss_fn(predictions,y).item()\n",
    "            correct += (predictions.argmax(1) == y).type(torch.float).sum().item()\n",
    "\n",
    "    test_loss /= num_batches\n",
    "    correct /= size\n",
    "    if verbose:\n",
    "        print(f\"Accuracy: {(100*correct):>0.1f}%, Avg loss: {test_loss:>8f}\")\n",
    "    return correct, test_loss"
   ]
  },
  {
   "cell_type": "code",
   "execution_count": 17,
   "id": "dbc25a06",
   "metadata": {
    "ExecuteTime": {
     "end_time": "2022-02-23T12:35:31.576988Z",
     "start_time": "2022-02-23T12:10:45.244996Z"
    },
    "scrolled": false
   },
   "outputs": [
    {
     "name": "stdout",
     "output_type": "stream",
     "text": [
      "Finished epoch 50 of 50. Correct predictions on training set and test set: 62.9% vs. 55.5%\r"
     ]
    }
   ],
   "source": [
    "learning_rate = 1e-3\n",
    "\n",
    "#loss_fn = nn.NLLLoss() # If softmax is performed explicitly after the last \n",
    "# layer of the neural network, nn.NLLLoss() should be used instead of \n",
    "# nn.CrossEntropyLoss()\n",
    "loss_fn = nn.CrossEntropyLoss()\n",
    "optimizer = torch.optim.RMSprop(model.parameters(), lr=learning_rate)\n",
    "\n",
    "epochs = 50 # 1 epoch = 1 iteration through the whole training dataset\n",
    "\n",
    "accuracy_on_training_set = []\n",
    "mean_loss_on_training_set = []\n",
    "accuracy_on_test_set = []\n",
    "mean_loss_on_test_set = []\n",
    "\n",
    "for t in range(epochs):\n",
    "    #\n",
    "    accuracy_train, loss_train = train_loop(training_dataloader, model, loss_fn, optimizer)\n",
    "    #\n",
    "    accuracy_on_training_set.append(accuracy_train)\n",
    "    mean_loss_on_training_set.append(loss_train)\n",
    "    #\n",
    "    accuracy_test, loss_test = test_loop(test_dataloader, model, loss_fn)\n",
    "    #\n",
    "    accuracy_on_test_set.append(accuracy_test)\n",
    "    mean_loss_on_test_set.append(loss_test)\n",
    "    #\n",
    "    print(\"Finished epoch {0} of {1}. Correct predictions \".format(t+1,epochs) + \\\n",
    "          \"on training set and test set: {0:>0.1f}% vs. {1:>0.1f}%\".format(\n",
    "                accuracy_train*100,accuracy_test*100),end='\\r')"
   ]
  },
  {
   "attachments": {},
   "cell_type": "markdown",
   "id": "0ec38824",
   "metadata": {},
   "source": [
    "## 5. Define functions to map output of neural network to country name"
   ]
  },
  {
   "cell_type": "code",
   "execution_count": 18,
   "id": "086c6ca9",
   "metadata": {
    "ExecuteTime": {
     "end_time": "2022-02-23T12:35:31.591442Z",
     "start_time": "2022-02-23T12:35:31.584786Z"
    }
   },
   "outputs": [],
   "source": [
    "def tensor_to_category(input_tensor,number=3):\n",
    "    # expects a tensor of shape (1,n_categories)\n",
    "    _, index = input_tensor.topk(number)\n",
    "    #\n",
    "    if number == 1:\n",
    "        return enumeration_of_categories[index.item()]\n",
    "    else:\n",
    "        categories = []\n",
    "        #print(index)\n",
    "        for i in index[0]:\n",
    "            categories.append ( enumeration_of_categories[i.item()] )\n",
    "        return categories"
   ]
  },
  {
   "cell_type": "code",
   "execution_count": 19,
   "id": "117ffae7",
   "metadata": {},
   "outputs": [],
   "source": [
    "def name_to_category(name):\n",
    "    #\n",
    "    name_tensor = word_to_tensor(name)\n",
    "    #\n",
    "    return tensor_to_category(model(name_tensor))"
   ]
  },
  {
   "attachments": {},
   "cell_type": "markdown",
   "id": "3a21c81f",
   "metadata": {},
   "source": [
    "## 7. Evaluate trained neural network on some example names"
   ]
  },
  {
   "cell_type": "code",
   "execution_count": 20,
   "id": "2a73451a",
   "metadata": {
    "ExecuteTime": {
     "end_time": "2022-02-23T17:45:50.906116Z",
     "start_time": "2022-02-23T17:45:50.837944Z"
    },
    "scrolled": false
   },
   "outputs": [
    {
     "name": "stdout",
     "output_type": "stream",
     "text": [
      "top 3 countries (most likely, second most likely, third most likely) for given names:\n",
      "Huber           ['Germany', 'Netherlands', 'France']\n",
      "Muller          ['Germany', 'Netherlands', 'France']\n",
      "Scholz          ['Germany', 'Netherlands', 'Poland']\n",
      "Einstein        ['France', 'Germany', 'United Kingdom']\n",
      "Sanchez         ['Spain', 'France', 'Portugal']\n",
      "Pollo           ['Italy', 'Spain', 'China']\n",
      "Berlusconi      ['Italy', 'Portugal', 'Indonesia']\n",
      "Putin           ['Indonesia', 'India', 'United Kingdom']\n",
      "Macron          ['Ireland', 'United Kingdom', 'France']\n",
      "Smirnoff        ['Germany', 'United Kingdom', 'Netherlands']\n",
      "Jelzin          ['France', 'Indonesia', 'Ireland']\n",
      "Trump           ['Germany', 'United Kingdom', 'France']\n",
      "Merkel          ['Netherlands', 'Germany', 'Russian Federation']\n",
      "Park            ['Germany', 'Netherlands', 'United Kingdom']\n",
      "Patel           ['Germany', 'France', 'Spain']\n",
      "Kim             ['Korea, Republic of', 'India', 'United Kingdom']\n",
      "O'Malley        ['Ireland', 'United Kingdom', 'Greece']\n",
      "Windsor         ['United Kingdom', 'Ireland', 'Indonesia']\n",
      "Johnson         ['United Kingdom', 'Ireland', 'France']\n",
      "Newton          ['United Kingdom', 'Ireland', 'France']\n",
      "Dyson           ['United Kingdom', 'Ireland', 'Poland']\n"
     ]
    }
   ],
   "source": [
    "# Try some names \n",
    "names = ['Huber','Muller','Scholz','Einstein',\n",
    "         'Sanchez','Pollo','Berlusconi',\n",
    "        'Putin','Macron','Smirnoff','Jelzin',\n",
    "        'Trump', 'Merkel','Park','Patel',\n",
    "        'Kim',\n",
    "        \"O'Malley\",\n",
    "        'Windsor','Johnson','Newton','Dyson',\n",
    "        ]\n",
    "\n",
    "print(\"top 3 countries (most likely, second most likely, third most likely)\",\n",
    "      \"for given names:\")\n",
    "for name in names:\n",
    "    print('{0:15s} {1}'.format(name,name_to_category(name)))"
   ]
  },
  {
   "attachments": {},
   "cell_type": "markdown",
   "id": "403501a2",
   "metadata": {},
   "source": [
    "## 8. Evaluate and plot confusion matrix"
   ]
  },
  {
   "attachments": {},
   "cell_type": "markdown",
   "id": "00322dd1",
   "metadata": {
    "ExecuteTime": {
     "end_time": "2022-02-23T17:17:08.453173Z",
     "start_time": "2022-02-23T17:17:08.448162Z"
    }
   },
   "source": [
    "**In row $i$, the confusion matrix shows how the model classifies the given data that has a known $i$.**\n",
    "\n",
    "The confusion matrix is defined as\n",
    "\n",
    "\\begin{align}\n",
    "C_{ij} &=  \\frac{ \\#~\\mathrm{of~data~with~label~}i\\text{~that~we~classify~as~}j\n",
    "}{\n",
    "    \\#~\\text{of~data~with~label~}i}.\n",
    "\\end{align}\n",
    "\n",
    "For example, if $i =$ Germany, and $j =$ France, then we to calculate $C_{ij}$\n",
    "we take all the data with the label Germany (say, $N_i$ datapoints), \n",
    "and evaluate the model predictionon it. We then count how many times the model \n",
    "predicted the label France for this data (say $N_{ij}$ times). \n",
    "The confusion matrix is then\n",
    "\n",
    "\\begin{align}\n",
    "C_{ij} &= \\frac{N_{ij}}{N_i}.\n",
    "\\end{align}\n",
    "\n",
    "If our model was perfectly accurate, the confusion matrix would be a unit matrix.\n",
    "\n",
    "We consider the confusion matrix for the test data."
   ]
  },
  {
   "cell_type": "code",
   "execution_count": 21,
   "id": "7fc03e4c",
   "metadata": {
    "ExecuteTime": {
     "end_time": "2022-02-23T17:42:24.494044Z",
     "start_time": "2022-02-23T17:41:53.252925Z"
    },
    "scrolled": false
   },
   "outputs": [
    {
     "name": "stdout",
     "output_type": "stream",
     "text": [
      "Confusion matrix for test data (6758 samples):\n"
     ]
    },
    {
     "name": "stderr",
     "output_type": "stream",
     "text": [
      "/var/folders/yl/dclvswrn4k967wl71rmbvx_r0000gq/T/ipykernel_37031/1177855880.py:34: UserWarning: FixedFormatter should only be used together with FixedLocator\n",
      "  ax.set_xticklabels([''] + list(categories.keys()), rotation=90)\n",
      "/var/folders/yl/dclvswrn4k967wl71rmbvx_r0000gq/T/ipykernel_37031/1177855880.py:35: UserWarning: FixedFormatter should only be used together with FixedLocator\n",
      "  ax.set_yticklabels([''] + list(categories.keys()))\n"
     ]
    },
    {
     "data": {
      "image/png": "[encoded data removed]",
      "text/plain": [
       "<Figure size 700x600 with 2 Axes>"
      ]
     },
     "metadata": {},
     "output_type": "display_data"
    },
    {
     "name": "stderr",
     "output_type": "stream",
     "text": [
      "/var/folders/yl/dclvswrn4k967wl71rmbvx_r0000gq/T/ipykernel_37031/1177855880.py:25: RuntimeWarning: divide by zero encountered in log10\n",
      "  Z_plot = np.log10(confusion_matrix)\n"
     ]
    },
    {
     "data": {
      "image/png": "[encoded data removed]",
      "text/plain": [
       "<Figure size 700x600 with 2 Axes>"
      ]
     },
     "metadata": {},
     "output_type": "display_data"
    }
   ],
   "source": [
    "def evaluate_confusion_matrix(items,labels,\n",
    "                              log_z=False,\n",
    "                              plot=True,\n",
    "                              return_confusion_matrix=True):\n",
    "    #\n",
    "    prediction_matrix = np.zeros([N_categories,N_categories],dtype=float)\n",
    "    N_samples = np.zeros(N_categories,dtype=int)\n",
    "    #\n",
    "    for item, label in zip(items,labels):\n",
    "        #\n",
    "        # calculate predicted class\n",
    "        _, predicted_label = model(item).topk(1)\n",
    "        #\n",
    "        prediction_matrix[label,predicted_label] += 1\n",
    "        N_samples[label] += 1\n",
    "    #\n",
    "    confusion_matrix = prediction_matrix / N_samples[:,np.newaxis]\n",
    "    #\n",
    "    #\n",
    "    # plot (code mostly from the tutorial )\n",
    "    if plot:\n",
    "        fig, ax = plt.subplots(1,1,figsize=(7,6))\n",
    "        #\n",
    "        if log_z:\n",
    "            Z_plot = np.log10(confusion_matrix)\n",
    "            zlabel = r'$\\log_{10}(P)$'\n",
    "        else:\n",
    "            Z_plot = confusion_matrix\n",
    "            zlabel = r'P'\n",
    "        cax = ax.matshow(Z_plot)\n",
    "        cbar = fig.colorbar(cax)\n",
    "\n",
    "        # Set up axes\n",
    "        ax.set_xticklabels([''] + list(categories.keys()), rotation=90)\n",
    "        ax.set_yticklabels([''] + list(categories.keys()))\n",
    "\n",
    "        # Force label at every tick\n",
    "        ax.set_xticks(np.arange(N_categories+1)-1)\n",
    "        ax.set_yticks(np.arange(N_categories+1)-1)\n",
    "\n",
    "        ax.set_xlim([-0.5,N_categories-0.5])\n",
    "        ax.set_ylim([-0.5,N_categories-0.5])\n",
    "\n",
    "        #\n",
    "        ax.set_xlabel('Predicted label')\n",
    "        ax.set_ylabel('Actual label')\n",
    "        cbar.set_label(zlabel)\n",
    "\n",
    "        plt.show()\n",
    "        plt.close(fig)\n",
    "    #\n",
    "    if return_confusion_matrix:\n",
    "        return confusion_matrix, N_samples\n",
    "    else:\n",
    "        return prediction_matrix, N_samples\n",
    "\n",
    "#print(\"Confusion matrix for training data ({0} samples):\".format(len(training_items)))\n",
    "#prediction_matrix, N_samples = evaluate_confusion_matrix(training_items,training_labels)\n",
    "#prediction_matrix, N_samples = evaluate_confusion_matrix(training_items,training_labels,\n",
    "#                                                         log_z=True)\n",
    "\n",
    "print(\"Confusion matrix for test data ({0} samples):\".format(len(test_items)))\n",
    "evaluate_confusion_matrix(test_items,test_labels)\n",
    "confusion_matrix, N_samples = evaluate_confusion_matrix(test_items,test_labels,\n",
    "                                                        log_z=True,\n",
    "                                             return_confusion_matrix=True)\n",
    "\n",
    "#print(\"Confusion matrix for training + test data ({0} samples):\".format(len(training_items+test_items)))\n",
    "#evaluate_confusion_matrix(training_items+ test_items,training_labels+test_labels)\n",
    "#evaluate_confusion_matrix(training_items+ test_items,training_labels+test_labels,\n",
    "#                          log_z=True);"
   ]
  },
  {
   "attachments": {},
   "cell_type": "markdown",
   "id": "22ffd676",
   "metadata": {},
   "source": [
    "The confusion matrix shows that the mostly misclassified names of the neural network are:\n",
    "\n",
    "* Names from the UK being misclassified as Irish (and vice versa)\n",
    "* Spanish names being misclassified as Portuguese\n",
    "\n",
    "We here give the numerical values of the largest elements of the confusion matrix:"
   ]
  },
  {
   "cell_type": "code",
   "execution_count": 22,
   "id": "f753cb08",
   "metadata": {},
   "outputs": [
    {
     "name": "stdout",
     "output_type": "stream",
     "text": [
      "label                predicted label      relative frequency (~Probability)\n",
      "Russian Federation   Russian Federation   0.830\n",
      "Netherlands          Netherlands          0.786\n",
      "Poland               Poland               0.758\n",
      "Greece               Greece               0.724\n",
      "Indonesia            Indonesia            0.634\n",
      "Italy                Italy                0.614\n",
      "Germany              Germany              0.568\n",
      "Portugal             Portugal             0.556\n",
      "India                India                0.525\n",
      "France               France               0.476\n",
      "Spain                Spain                0.470\n",
      "Korea, Republic of   Korea, Republic of   0.460\n",
      "China                China                0.380\n",
      "United Kingdom       United Kingdom       0.378\n",
      "Ireland              Ireland              0.360\n",
      "Ireland              United Kingdom       0.312\n",
      "Spain                Portugal             0.166\n",
      "United Kingdom       Ireland              0.152\n",
      "Germany              Netherlands          0.148\n",
      "Portugal             Spain                0.146\n",
      "United Kingdom       Germany              0.112\n",
      "United Kingdom       France               0.104\n",
      "Ireland              France               0.104\n",
      "Spain                France               0.104\n",
      "Italy                Portugal             0.104\n"
     ]
    }
   ],
   "source": [
    "N_elements = 25\n",
    "\n",
    "values, indices = torch.topk(input=torch.tensor(confusion_matrix.flatten()),\n",
    "                             k=N_elements)\n",
    "indices = np.array(np.unravel_index(indices=indices.numpy(),\n",
    "                                    shape=np.shape(confusion_matrix))).T\n",
    "\n",
    "output_string = '{label:20s} {prediction:20s} {relative_frequency:20s}'\n",
    "print(output_string.format(label='label',\n",
    "                      prediction='predicted label',\n",
    "                      relative_frequency='relative frequency (~Probability)')\n",
    ")\n",
    "output_string = '{label:20s} {prediction:20s} {relative_frequency:3.3f}'\n",
    "for index_pair in indices:\n",
    "    #print(index_pair)\n",
    "    print(output_string.format(\n",
    "        label=list(categories.keys())[index_pair[0]], \n",
    "        prediction=list(categories.keys())[index_pair[1]],\n",
    "        relative_frequency=confusion_matrix[index_pair[0],index_pair[1]])\n",
    "          )"
   ]
  },
  {
   "cell_type": "code",
   "execution_count": null,
   "id": "02919568",
   "metadata": {},
   "outputs": [],
   "source": []
  }
 ],
 "metadata": {
  "kernelspec": {
   "display_name": "Python 3 (ipykernel)",
   "language": "python",
   "name": "python3"
  },
  "language_info": {
   "codemirror_mode": {
    "name": "ipython",
    "version": 3
   },
   "file_extension": ".py",
   "mimetype": "text/x-python",
   "name": "python",
   "nbconvert_exporter": "python",
   "pygments_lexer": "ipython3",
   "version": "3.10.8"
  }
 },
 "nbformat": 4,
 "nbformat_minor": 5
}
